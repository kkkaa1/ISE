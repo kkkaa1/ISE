{
 "cells": [
  {
   "cell_type": "code",
   "execution_count": 2,
   "metadata": {},
   "outputs": [],
   "source": [
    "import pandas as pd\n"
   ]
  },
  {
   "cell_type": "code",
   "execution_count": 9,
   "metadata": {},
   "outputs": [],
   "source": [
    "df=pd.read_csv(\"C:/Users/vjame/OneDrive/OneDrive - dongguk.edu/문서/카카오톡 받은 파일/final_num_192_with_address.csv\",encoding=\"utf-8\")"
   ]
  },
  {
   "cell_type": "code",
   "execution_count": 10,
   "metadata": {},
   "outputs": [
    {
     "data": {
      "text/html": [
       "<div>\n",
       "<style scoped>\n",
       "    .dataframe tbody tr th:only-of-type {\n",
       "        vertical-align: middle;\n",
       "    }\n",
       "\n",
       "    .dataframe tbody tr th {\n",
       "        vertical-align: top;\n",
       "    }\n",
       "\n",
       "    .dataframe thead th {\n",
       "        text-align: right;\n",
       "    }\n",
       "</style>\n",
       "<table border=\"1\" class=\"dataframe\">\n",
       "  <thead>\n",
       "    <tr style=\"text-align: right;\">\n",
       "      <th></th>\n",
       "      <th>ID</th>\n",
       "      <th>Longitude</th>\n",
       "      <th>Latitude</th>\n",
       "      <th>지번주소</th>\n",
       "    </tr>\n",
       "  </thead>\n",
       "  <tbody>\n",
       "    <tr>\n",
       "      <th>0</th>\n",
       "      <td>0.0</td>\n",
       "      <td>127.013725</td>\n",
       "      <td>37.555783</td>\n",
       "      <td>서울특별시 중구 신당동 345-23</td>\n",
       "    </tr>\n",
       "    <tr>\n",
       "      <th>1</th>\n",
       "      <td>1.0</td>\n",
       "      <td>127.015149</td>\n",
       "      <td>37.560326</td>\n",
       "      <td>서울특별시 중구 신당동 287-62</td>\n",
       "    </tr>\n",
       "    <tr>\n",
       "      <th>2</th>\n",
       "      <td>4.0</td>\n",
       "      <td>127.016254</td>\n",
       "      <td>37.559378</td>\n",
       "      <td>서울특별시 중구 신당동 312-10</td>\n",
       "    </tr>\n",
       "    <tr>\n",
       "      <th>3</th>\n",
       "      <td>5.0</td>\n",
       "      <td>127.018157</td>\n",
       "      <td>37.561107</td>\n",
       "      <td>서울특별시 중구 신당동 44-40</td>\n",
       "    </tr>\n",
       "    <tr>\n",
       "      <th>4</th>\n",
       "      <td>6.0</td>\n",
       "      <td>127.010355</td>\n",
       "      <td>37.563355</td>\n",
       "      <td>서울특별시 중구 신당동 236-348</td>\n",
       "    </tr>\n",
       "    <tr>\n",
       "      <th>...</th>\n",
       "      <td>...</td>\n",
       "      <td>...</td>\n",
       "      <td>...</td>\n",
       "      <td>...</td>\n",
       "    </tr>\n",
       "    <tr>\n",
       "      <th>167</th>\n",
       "      <td>188.0</td>\n",
       "      <td>127.015517</td>\n",
       "      <td>37.558621</td>\n",
       "      <td>서울특별시 중구 신당동 322-23</td>\n",
       "    </tr>\n",
       "    <tr>\n",
       "      <th>168</th>\n",
       "      <td>189.0</td>\n",
       "      <td>127.016363</td>\n",
       "      <td>37.558736</td>\n",
       "      <td>서울특별시 중구 신당동 313-81</td>\n",
       "    </tr>\n",
       "    <tr>\n",
       "      <th>169</th>\n",
       "      <td>190.0</td>\n",
       "      <td>127.010366</td>\n",
       "      <td>37.562235</td>\n",
       "      <td>NaN</td>\n",
       "    </tr>\n",
       "    <tr>\n",
       "      <th>170</th>\n",
       "      <td>191.0</td>\n",
       "      <td>127.010508</td>\n",
       "      <td>37.564647</td>\n",
       "      <td>서울특별시 중구 신당동 225-21</td>\n",
       "    </tr>\n",
       "    <tr>\n",
       "      <th>171</th>\n",
       "      <td>NaN</td>\n",
       "      <td>126.968344</td>\n",
       "      <td>37.561135</td>\n",
       "      <td>서울특별시 중구 의주로2가 16-68</td>\n",
       "    </tr>\n",
       "  </tbody>\n",
       "</table>\n",
       "<p>172 rows × 4 columns</p>\n",
       "</div>"
      ],
      "text/plain": [
       "        ID   Longitude   Latitude                  지번주소\n",
       "0      0.0  127.013725  37.555783   서울특별시 중구 신당동 345-23\n",
       "1      1.0  127.015149  37.560326   서울특별시 중구 신당동 287-62\n",
       "2      4.0  127.016254  37.559378   서울특별시 중구 신당동 312-10\n",
       "3      5.0  127.018157  37.561107    서울특별시 중구 신당동 44-40\n",
       "4      6.0  127.010355  37.563355  서울특별시 중구 신당동 236-348\n",
       "..     ...         ...        ...                   ...\n",
       "167  188.0  127.015517  37.558621   서울특별시 중구 신당동 322-23\n",
       "168  189.0  127.016363  37.558736   서울특별시 중구 신당동 313-81\n",
       "169  190.0  127.010366  37.562235                   NaN\n",
       "170  191.0  127.010508  37.564647   서울특별시 중구 신당동 225-21\n",
       "171    NaN  126.968344  37.561135  서울특별시 중구 의주로2가 16-68\n",
       "\n",
       "[172 rows x 4 columns]"
      ]
     },
     "execution_count": 10,
     "metadata": {},
     "output_type": "execute_result"
    }
   ],
   "source": [
    "df"
   ]
  },
  {
   "cell_type": "code",
   "execution_count": 18,
   "metadata": {},
   "outputs": [
    {
     "data": {
      "text/plain": [
       "'서울특별시 중구 신당동 287-62'"
      ]
     },
     "execution_count": 18,
     "metadata": {},
     "output_type": "execute_result"
    }
   ],
   "source": [
    "df.iloc[1,3]"
   ]
  },
  {
   "cell_type": "code",
   "execution_count": 13,
   "metadata": {},
   "outputs": [
    {
     "name": "stdout",
     "output_type": "stream",
     "text": [
      "Collecting webdriver_manager\n",
      "  Downloading webdriver_manager-4.0.1-py2.py3-none-any.whl (27 kB)\n",
      "Requirement already satisfied: packaging in c:\\users\\vjame\\anaconda3\\lib\\site-packages (from webdriver_manager) (23.2)"
     ]
    },
    {
     "name": "stderr",
     "output_type": "stream",
     "text": [
      "WARNING: Ignoring invalid distribution -rotobuf (c:\\users\\vjame\\anaconda3\\lib\\site-packages)\n",
      "WARNING: Ignoring invalid distribution -rotobuf (c:\\users\\vjame\\anaconda3\\lib\\site-packages)\n",
      "WARNING: Ignoring invalid distribution -rotobuf (c:\\users\\vjame\\anaconda3\\lib\\site-packages)\n",
      "WARNING: Ignoring invalid distribution -rotobuf (c:\\users\\vjame\\anaconda3\\lib\\site-packages)\n",
      "WARNING: Ignoring invalid distribution -rotobuf (c:\\users\\vjame\\anaconda3\\lib\\site-packages)\n",
      "WARNING: Ignoring invalid distribution -rotobuf (c:\\users\\vjame\\anaconda3\\lib\\site-packages)\n",
      "WARNING: Ignoring invalid distribution -rotobuf (c:\\users\\vjame\\anaconda3\\lib\\site-packages)\n"
     ]
    },
    {
     "name": "stdout",
     "output_type": "stream",
     "text": [
      "\n",
      "Requirement already satisfied: requests in c:\\users\\vjame\\anaconda3\\lib\\site-packages (from webdriver_manager) (2.31.0)\n",
      "Requirement already satisfied: python-dotenv in c:\\users\\vjame\\anaconda3\\lib\\site-packages (from webdriver_manager) (1.0.1)\n",
      "Requirement already satisfied: certifi>=2017.4.17 in c:\\users\\vjame\\anaconda3\\lib\\site-packages (from requests->webdriver_manager) (2024.2.2)\n",
      "Requirement already satisfied: charset-normalizer<4,>=2 in c:\\users\\vjame\\anaconda3\\lib\\site-packages (from requests->webdriver_manager) (3.3.2)\n",
      "Requirement already satisfied: urllib3<3,>=1.21.1 in c:\\users\\vjame\\anaconda3\\lib\\site-packages (from requests->webdriver_manager) (2.2.1)\n",
      "Requirement already satisfied: idna<4,>=2.5 in c:\\users\\vjame\\anaconda3\\lib\\site-packages (from requests->webdriver_manager) (3.7)\n",
      "Installing collected packages: webdriver-manager\n",
      "Successfully installed webdriver-manager-4.0.1\n"
     ]
    }
   ],
   "source": [
    "!pip install webdriver_manager"
   ]
  },
  {
   "cell_type": "code",
   "execution_count": 23,
   "metadata": {},
   "outputs": [],
   "source": [
    "import time\n",
    "from selenium import webdriver\n",
    "from selenium.webdriver.chrome.service import Service as ChromeService\n",
    "from webdriver_manager.chrome import ChromeDriverManager\n",
    "from selenium.webdriver.common.by import By\n",
    "\n",
    "# 크롬 드라이버 생성\n",
    "driver = webdriver.Chrome(service=ChromeService(ChromeDriverManager().install()))\n",
    "\n",
    "# Google 웹사이트에 접속\n",
    "driver.get(\"https://www.juso.go.kr/CommonPageLink.do?link=/support/AddressConvert\")\n",
    "\n",
    "# 검색 입력창 찾기 (검색창의 이름이 'q')\n",
    "for i in range(8):\n",
    "          search_button = driver.find_element(By.XPATH, '//*[@id=\"content\"]/section/div/div[3]/span[1]/button')\n",
    "          search_button.click()\n",
    "          time.sleep(2)\n",
    "\n",
    "# 검색어 입력\n",
    "for i in range(1,50):\n",
    "          xp='//*[@id=\"txt'+str(i)+'\"]'\n",
    "          text_input = driver.find_element(By.XPATH, xp)\n",
    "          text_input.send_keys(df.iloc[i-1,3])\n",
    "# 검색 실행\n",
    "button = driver.find_element(By.XPATH, '//*[@id=\"content\"]/section/div/div[3]/span[2]/button[1]')\n",
    "button.click()\n",
    "# 결과 페이지 스크린샷 저장\n",
    "\n",
    "# 브라우저 종료\n"
   ]
  }
 ],
 "metadata": {
  "kernelspec": {
   "display_name": "base",
   "language": "python",
   "name": "python3"
  },
  "language_info": {
   "codemirror_mode": {
    "name": "ipython",
    "version": 3
   },
   "file_extension": ".py",
   "mimetype": "text/x-python",
   "name": "python",
   "nbconvert_exporter": "python",
   "pygments_lexer": "ipython3",
   "version": "3.9.12"
  }
 },
 "nbformat": 4,
 "nbformat_minor": 2
}
