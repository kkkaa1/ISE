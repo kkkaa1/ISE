{
 "cells": [
  {
   "cell_type": "code",
   "execution_count": null,
   "metadata": {},
   "outputs": [],
   "source": [
    "import numpy as np\n",
    "import pandas as pd"
   ]
  },
  {
   "cell_type": "code",
   "execution_count": null,
   "metadata": {},
   "outputs": [],
   "source": [
    "#naver map api key\n",
    "client_id = '861z66ikys';    # 본인이 할당받은 ID 입력\n",
    "client_pw = 'k5M5KmlwOFtZBg027Z5q6myw7f06R1p33I1gjviv';    # 본인이 할당받은 Secret 입력\n",
    "\n",
    "api_url = 'https://naveropenapi.apigw.ntruss.com/map-geocode/v2/geocode?query='\n",
    "\n",
    "# 주소 목록 파일 (.csv)\n",
    "data = df_2173\n",
    "# 주소 목록 파일 (.xlsx)\n",
    "# data = pd.read_excel('파일명.xlsx')\n",
    "\n",
    "# 네이버 지도 API 이용해서 위경도 찾기\n",
    "geo_coordi = []     \n",
    "for add in data['주소(지번)']:\n",
    "    add_urlenc = parse.quote(add)  \n",
    "    url = api_url + add_urlenc\n",
    "    request = Request(url)\n",
    "    request.add_header('X-NCP-APIGW-API-KEY-ID', client_id)\n",
    "    request.add_header('X-NCP-APIGW-API-KEY', client_pw)\n",
    "    try:\n",
    "        response = urlopen(request)\n",
    "    except HTTPError as e:\n",
    "        print('HTTP Error!')\n",
    "        latitude = None\n",
    "        longitude = None\n",
    "    else:\n",
    "        rescode = response.getcode()\n",
    "        if rescode == 200:\n",
    "            response_body = response.read().decode('utf-8')\n",
    "            response_body = json.loads(response_body)   # json\n",
    "            if response_body['addresses'] == [] :\n",
    "                print(\"'result' not exist!\")\n",
    "                latitude = None\n",
    "                longitude = None\n",
    "            else:\n",
    "                latitude = response_body['addresses'][0]['y']\n",
    "                longitude = response_body['addresses'][0]['x']\n",
    "        else:\n",
    "            print('Response error code : %d' % rescode)\n",
    "            latitude = None\n",
    "            longitude = None\n",
    "\n",
    "    geo_coordi.append([latitude, longitude])\n",
    "\n"
   ]
  },
  {
   "cell_type": "code",
   "execution_count": null,
   "metadata": {},
   "outputs": [],
   "source": [
    "np_geo_coordi = np.array(geo_coordi)\n",
    "pd_geo_coordi = pd.DataFrame({\"도로명\": data['주소(지번)'].values,\n",
    "                              \"위도\": np_geo_coordi[:, 0],\n",
    "                              \"경도\": np_geo_coordi[:, 1]})\n",
    "\n",
    "df_0990_xy=pd_geo_coordi\n",
    "df_0990_xy.to_csv(\"0990_새벽\")"
   ]
  }
 ],
 "metadata": {
  "language_info": {
   "name": "python"
  }
 },
 "nbformat": 4,
 "nbformat_minor": 2
}
