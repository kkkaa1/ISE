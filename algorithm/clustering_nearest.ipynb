{
 "cells": [
  {
   "cell_type": "code",
   "execution_count": 3,
   "metadata": {},
   "outputs": [
    {
     "name": "stdout",
     "output_type": "stream",
     "text": [
      "Route 0 (95수9917, Capacity: 6100): 18005\n",
      "4->169->13->51->64->56->59->151->20->14->170->27->33->57->70->25->54->52->146->142->100->121->6->126->120->117->124->113->114->71->75->34->17->119->171\n",
      "\n",
      "Route 1 (95조7024, Capacity: 3700): 6512\n",
      "0->22->101->16->40->11->10->30->44->26->19->42->152->41->74->38->107->150->60->160->157->156->155->153->158->147->148->145->140->8->154->110->141->109\n",
      "\n",
      "Route 2 (93서5934, Capacity: 5000): 6378\n",
      "1->18->28->15->48->167->43->168->72->55->29->161->66->165->58->2->163->166->159->24->37->164->32->136->9->36->73->108->162->144->143->21->47->69\n",
      "\n",
      "Route 3 (800조2173, Capacity: 1500): 8033\n",
      "3->49->50->39->12->118->123->35->125->116->115->61->135->128->53->45->63->67->7->89->78->83->99->76->81->82->79->98->112->91->131->96->149->65\n",
      "\n",
      "Route 4 (81수0990, Capacity: 3000): 8521\n",
      "5->46->106->139->92->77->90->111->62->23->31->95->85->84->93->94->88->97->80->87->86->103->102->132->137->134->130->104->138->68->105->122->127->133->129\n",
      "\n",
      "Objective: 47449\n"
     ]
    }
   ],
   "source": [
    "#######qcut이용, 0노드 뺴고.?\n",
    "import numpy as np\n",
    "import pandas as pd\n",
    "from sklearn.cluster import KMeans\n",
    "\n",
    "# 위도 경도 데이터 로드\n",
    "latlong_data = pd.read_csv(\"data/final_num_192.csv\")\n",
    "distance_matrix = pd.read_csv(\"data/final_distance.csv\")\n",
    "\n",
    "def calculate_total_distance(route, dist_matrix):\n",
    "    total_distance = 0\n",
    "    for i in range(len(route) - 1):\n",
    "        total_distance += dist_matrix[route[i], route[i+1]]\n",
    "    return total_distance\n",
    "\n",
    "def nearest_neighbor(dist_matrix, demands, capacity, cluster_indices):\n",
    "    num_points = len(cluster_indices)\n",
    "    visited = np.zeros(num_points, dtype=bool)\n",
    "    routes = []\n",
    "    capa = []\n",
    "    while np.sum(visited) < num_points:\n",
    "        current_node = np.argmax(~visited)  # 첫 번째 방문하지 않은 노드에서 시작\n",
    "        current_capacity = 0\n",
    "        route = [cluster_indices[current_node]]\n",
    "        visited[current_node] = True\n",
    "        while True:\n",
    "            current = route[-1]\n",
    "            nearest = None\n",
    "            min_dist = float('inf')\n",
    "            for i, neighbor in enumerate(cluster_indices):\n",
    "                if not visited[i] and demands[neighbor] + current_capacity <= capacity and dist_matrix[current, neighbor] < min_dist:\n",
    "                    nearest = i\n",
    "                    min_dist = dist_matrix[current, neighbor]\n",
    "            if nearest is None:\n",
    "                break\n",
    "            route.append(cluster_indices[nearest])\n",
    "            visited[nearest] = True\n",
    "            current_capacity += demands[cluster_indices[nearest]]\n",
    "        routes.append(route)\n",
    "        capa.append(current_capacity)\n",
    "    return routes, capa\n",
    "\n",
    "def format_output(routes, vehicle_info, dist_matrix):\n",
    "    num = 0\n",
    "    for i, route in enumerate(routes):\n",
    "        dis = calculate_total_distance(route, dist_matrix)\n",
    "        num += dis\n",
    "        vehicle_name, capacity = vehicle_info[i % len(vehicle_info)]\n",
    "        print(f\"Route {i} ({vehicle_name}, Capacity: {capacity}): {dis}\")\n",
    "        print(*route, sep=\"->\")\n",
    "        print(\"\")\n",
    "    print(\"Objective: \" + str(num))\n",
    "\n",
    "def vrp_solver(distance_matrix, latlong_data, vehicle_info):\n",
    "    demands = np.ones(len(distance_matrix))  # 모든 지점의 수요를 단순화를 위해 1로 가정\n",
    "    \n",
    "    # 위도 기준으로 군집화 (qcut 사용)\n",
    "    latlong_data['cluster_label'] = pd.qcut(latlong_data['x'], q=5, labels=False)\n",
    "    \n",
    "    all_routes = []\n",
    "    all_capa = []\n",
    "    \n",
    "    for cluster in range(5):  # 군집 수를 5로 지정\n",
    "        cluster_indices = np.where(latlong_data['cluster_label'] == cluster)[0]\n",
    "        cluster_dist_matrix = distance_matrix[np.ix_(cluster_indices, cluster_indices)]\n",
    "        \n",
    "        # 각 차량의 용량에 맞는 라우트 계산\n",
    "        routes, capa = nearest_neighbor(distance_matrix, demands, vehicle_info[list(vehicle_info.keys())[cluster % len(vehicle_info)]], cluster_indices)\n",
    "        \n",
    "        all_routes.extend(routes)\n",
    "        all_capa.extend(capa)\n",
    "    \n",
    "    format_output(all_routes, list(vehicle_info.items()), distance_matrix)\n",
    "    return all_routes, all_capa\n",
    "\n",
    "# 차량 정보 정의\n",
    "vehicle_info = {\n",
    "    '95수9917': 6100,\n",
    "    '95조7024': 3700,\n",
    "    '93서5934': 5000,\n",
    "    '800조2173': 1500,\n",
    "    '81수0990': 3000\n",
    "}\n",
    "\n",
    "# 위도 경도 데이터 및 차량 정보를 사용해 VRP 해결\n",
    "routes, capa = vrp_solver(distance_matrix.to_numpy(), latlong_data, vehicle_info)"
   ]
  },
  {
   "cell_type": "code",
   "execution_count": 5,
   "metadata": {},
   "outputs": [
    {
     "data": {
      "text/plain": [
       "0      (127.012, 127.014]\n",
       "1      (127.014, 127.017]\n",
       "2      (127.014, 127.017]\n",
       "3       (127.017, 127.02]\n",
       "4      (126.967, 127.012]\n",
       "              ...        \n",
       "167    (127.014, 127.017]\n",
       "168    (127.014, 127.017]\n",
       "169    (126.967, 127.012]\n",
       "170    (126.967, 127.012]\n",
       "171    (126.967, 127.012]\n",
       "Name: x, Length: 172, dtype: category\n",
       "Categories (5, interval[float64, right]): [(126.967, 127.012] < (127.012, 127.014] < (127.014, 127.017] < (127.017, 127.02] < (127.02, 127.024]]"
      ]
     },
     "execution_count": 5,
     "metadata": {},
     "output_type": "execute_result"
    }
   ],
   "source": [
    "pd.qcut(latlong_data['x'], q=5)"
   ]
  }
 ],
 "metadata": {
  "kernelspec": {
   "display_name": "base",
   "language": "python",
   "name": "python3"
  },
  "language_info": {
   "codemirror_mode": {
    "name": "ipython",
    "version": 3
   },
   "file_extension": ".py",
   "mimetype": "text/x-python",
   "name": "python",
   "nbconvert_exporter": "python",
   "pygments_lexer": "ipython3",
   "version": "3.9.12"
  }
 },
 "nbformat": 4,
 "nbformat_minor": 2
}
