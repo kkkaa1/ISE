{
 "cells": [
  {
   "cell_type": "code",
   "execution_count": 2,
   "metadata": {},
   "outputs": [],
   "source": [
    "import pandas as pd\n",
    "import numpy as np"
   ]
  },
  {
   "cell_type": "code",
   "execution_count": 3,
   "metadata": {},
   "outputs": [],
   "source": [
    "distance_matrix=pd.read_csv(\"data/final_distance.csv\").to_numpy()"
   ]
  },
  {
   "cell_type": "code",
   "execution_count": 4,
   "metadata": {},
   "outputs": [
    {
     "name": "stdout",
     "output_type": "stream",
     "text": [
      "Resulting Tour: [0, 119, 117, 120, 126, 6, 121, 71, 75, 124, 113, 114, 100, 34, 10, 11, 40, 30, 17, 27, 25, 54, 141, 110, 154, 8, 140, 109, 21, 36, 73, 108, 162, 144, 143, 157, 156, 155, 153, 142, 158, 147, 148, 145, 146, 112, 98, 79, 103, 94, 93, 88, 97, 80, 87, 86, 139, 106, 46, 5, 84, 92, 77, 90, 85, 95, 31, 62, 111, 23, 82, 81, 76, 7, 89, 78, 83, 99, 53, 67, 63, 45, 91, 131, 96, 37, 24, 159, 38, 74, 41, 163, 166, 115, 128, 135, 61, 130, 134, 137, 132, 102, 127, 104, 122, 105, 138, 68, 116, 118, 12, 50, 49, 3, 39, 123, 35, 47, 125, 9, 136, 32, 164, 160, 107, 150, 60, 52, 33, 57, 70, 14, 20, 170, 4, 13, 169, 51, 64, 56, 59, 151, 26, 19, 42, 152, 44, 15, 28, 18, 1, 58, 167, 48, 43, 168, 72, 55, 29, 66, 161, 69, 22, 101, 16, 165, 2, 149, 65, 133, 129, 171]\n"
     ]
    }
   ],
   "source": [
    "import numpy as np\n",
    "\n",
    "def greedy_tsp_fixed_start_end(distance_matrix, start, end):\n",
    "    \"\"\"Greedy TSP with fixed start and end points.\"\"\"\n",
    "    num_cities = distance_matrix.shape[0]\n",
    "    cities = list(range(num_cities))\n",
    "    \n",
    "    # Remove start and end from the list of cities to be processed\n",
    "    cities.remove(start)\n",
    "    cities.remove(end)\n",
    "    \n",
    "    # Initialize segments with start and end\n",
    "    segments = [[start], [end]]\n",
    "    remaining_cities = set(cities)\n",
    "    \n",
    "    # Create a list of all edges (A, B) with A < B to avoid duplicates\n",
    "    edges = [(A, B) for A in cities for B in cities if A < B]\n",
    "    # Sort edges by distance\n",
    "    sorted_edges = sorted(edges, key=lambda edge: distance_matrix[edge[0], edge[1]])\n",
    "    \n",
    "    # Initialize endpoints dict for the remaining cities\n",
    "    endpoints = {c: [c] for c in remaining_cities}\n",
    "    \n",
    "    for (A, B) in sorted_edges:\n",
    "        if A in endpoints and B in endpoints and endpoints[A] != endpoints[B]:\n",
    "            new_segment = join_endpoints(endpoints, A, B)\n",
    "            if len(new_segment) == len(remaining_cities):\n",
    "                break\n",
    "    \n",
    "    # Combine the segments with the fixed start and end points\n",
    "    tour = [start] + new_segment + [end]\n",
    "    \n",
    "    return tour\n",
    "\n",
    "def join_endpoints(endpoints, A, B):\n",
    "    \"Join B's segment onto the end of A's and return the segment. Maintain endpoints dict.\"\n",
    "    Asegment, Bsegment = endpoints[A], endpoints[B]\n",
    "    if Asegment[-1] != A: Asegment.reverse()\n",
    "    if Bsegment[0] != B: Bsegment.reverse()\n",
    "    Asegment.extend(Bsegment)\n",
    "    del endpoints[A], endpoints[B]\n",
    "    endpoints[Asegment[0]] = endpoints[Asegment[-1]] = Asegment\n",
    "    return Asegment\n",
    "\n",
    "\n",
    "start = 0  # Fixed start point\n",
    "end = 171    # Fixed end point\n",
    "\n",
    "result = greedy_tsp_fixed_start_end(distance_matrix, start, end)\n",
    "print(\"Resulting Tour:\", result)\n"
   ]
  },
  {
   "cell_type": "code",
   "execution_count": 5,
   "metadata": {},
   "outputs": [
    {
     "data": {
      "text/plain": [
       "46256.0"
      ]
     },
     "execution_count": 5,
     "metadata": {},
     "output_type": "execute_result"
    }
   ],
   "source": [
    "def calculate_total_distance(distance_matrix, route):\n",
    "    \"\"\"\n",
    "    주어진 route에 따른 총 거리를 계산합니다.\n",
    "    \n",
    "    Parameters:\n",
    "    distance_matrix (2D list or np.array): 각 노드 간의 거리 정보를 포함하는 행렬\n",
    "    route (list): 방문할 노드의 인덱스를 나열한 리스트\n",
    "    \n",
    "    Returns:\n",
    "    float: 총 거리\n",
    "    \"\"\"\n",
    "    total_distance = 0.0\n",
    "    num_nodes = len(route)\n",
    "    \n",
    "    for i in range(num_nodes - 1):\n",
    "        total_distance += distance_matrix[route[i]][route[i + 1]]\n",
    "    \n",
    "    # 돌아오는 경로가 필요한 경우, 마지막 노드에서 시작 노드로의 거리 추가\n",
    "    total_distance += distance_matrix[route[-1]][route[0]]\n",
    "    \n",
    "    return total_distance\n",
    "calculate_total_distance(distance_matrix,result)"
   ]
  }
 ],
 "metadata": {
  "kernelspec": {
   "display_name": "base",
   "language": "python",
   "name": "python3"
  },
  "language_info": {
   "codemirror_mode": {
    "name": "ipython",
    "version": 3
   },
   "file_extension": ".py",
   "mimetype": "text/x-python",
   "name": "python",
   "nbconvert_exporter": "python",
   "pygments_lexer": "ipython3",
   "version": "3.9.12"
  }
 },
 "nbformat": 4,
 "nbformat_minor": 2
}
